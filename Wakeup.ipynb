{
 "cells": [
  {
   "cell_type": "code",
   "execution_count": 14,
   "id": "15b79ddc",
   "metadata": {},
   "outputs": [
    {
     "data": {
      "text/plain": [
       "Point(x=508, y=294)"
      ]
     },
     "execution_count": 14,
     "metadata": {},
     "output_type": "execute_result"
    }
   ],
   "source": [
    "import pyautogui as pag\n",
    "import time\n",
    "\n",
    "\n",
    "time.sleep(2)\n",
    "pag.position()"
   ]
  },
  {
   "cell_type": "code",
   "execution_count": 1,
   "id": "59e3189c",
   "metadata": {},
   "outputs": [],
   "source": [
    "import pyautogui as pag\n",
    "import time\n",
    "\n",
    "senhaA = \"Papaalfa@168191\"\n",
    "senhaB = \"Papaalfa@168191\"\n",
    "senhaC = \"nathyellecrypt2019\"\n",
    "\n",
    "pag.PAUSE = 1\n",
    "\n",
    "\n",
    "#abrindo Veracrypt\n",
    "pag.click(x=7, y=760)\n",
    "pag.click(x=383, y=295)\n",
    "time.sleep(5)\n",
    "\n",
    "\n",
    "#montando Valid\n",
    "pag.click(x=457, y=245)\n",
    "pag.click(x=615, y=577)\n",
    "time.sleep(2)\n",
    "pag.click(x=688, y=321)\n",
    "pag.write(senhaC)\n",
    "#pag.press(\"enter\")\n",
    "\n",
    "\n",
    "\n"
   ]
  }
 ],
 "metadata": {
  "kernelspec": {
   "display_name": "Python 3 (ipykernel)",
   "language": "python",
   "name": "python3"
  },
  "language_info": {
   "codemirror_mode": {
    "name": "ipython",
    "version": 3
   },
   "file_extension": ".py",
   "mimetype": "text/x-python",
   "name": "python",
   "nbconvert_exporter": "python",
   "pygments_lexer": "ipython3",
   "version": "3.9.13"
  }
 },
 "nbformat": 4,
 "nbformat_minor": 5
}
